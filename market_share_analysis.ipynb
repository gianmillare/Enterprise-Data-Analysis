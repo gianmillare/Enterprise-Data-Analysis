{
 "cells": [
  {
   "cell_type": "markdown",
   "metadata": {},
   "source": [
    "# Enterprise Data Market Share Analysis"
   ]
  },
  {
   "cell_type": "markdown",
   "metadata": {},
   "source": [
    "Using prepopulated, hypothetical data, I attempt to create an analysis that summarizes the performance of companies based on their respective descriptions, type of company, niche, location, and generated equity. \n",
    "\n",
    "The data is gathered by a company that primarily takes businesses and start up companies as clientele. This company will be referred to as \"XYZ Inc\" throughout the analysis."
   ]
  },
  {
   "cell_type": "code",
   "execution_count": 41,
   "metadata": {},
   "outputs": [],
   "source": [
    "import pandas as pd\n",
    "import os, csv\n",
    "import numpy as np\n",
    "import matplotlib.pyplot as plt\n",
    "import matplotlib.patches\n",
    "from matplotlib.pyplot import figure\n",
    "import operator"
   ]
  },
  {
   "cell_type": "code",
   "execution_count": 42,
   "metadata": {
    "scrolled": false
   },
   "outputs": [
    {
     "data": {
      "text/html": [
       "<div>\n",
       "<style scoped>\n",
       "    .dataframe tbody tr th:only-of-type {\n",
       "        vertical-align: middle;\n",
       "    }\n",
       "\n",
       "    .dataframe tbody tr th {\n",
       "        vertical-align: top;\n",
       "    }\n",
       "\n",
       "    .dataframe thead th {\n",
       "        text-align: right;\n",
       "    }\n",
       "</style>\n",
       "<table border=\"1\" class=\"dataframe\">\n",
       "  <thead>\n",
       "    <tr style=\"text-align: right;\">\n",
       "      <th></th>\n",
       "      <th>Company ID</th>\n",
       "      <th>Client Status</th>\n",
       "      <th>Vertical Description</th>\n",
       "      <th>Group Description</th>\n",
       "      <th>Deal Type</th>\n",
       "      <th>Business Group</th>\n",
       "      <th>Enhanced Life Stage</th>\n",
       "      <th>Enhanced Lifestage Reason</th>\n",
       "      <th>State</th>\n",
       "      <th>Equity Raised To Date</th>\n",
       "    </tr>\n",
       "  </thead>\n",
       "  <tbody>\n",
       "    <tr>\n",
       "      <th>0</th>\n",
       "      <td>1010</td>\n",
       "      <td>Client</td>\n",
       "      <td>Cybersecurity</td>\n",
       "      <td>software</td>\n",
       "      <td>Later Stage VC</td>\n",
       "      <td>Tech</td>\n",
       "      <td>Mid/Late/Corp</td>\n",
       "      <td>Same</td>\n",
       "      <td>CA</td>\n",
       "      <td>$36,322K</td>\n",
       "    </tr>\n",
       "    <tr>\n",
       "      <th>1</th>\n",
       "      <td>1037</td>\n",
       "      <td>Former Client</td>\n",
       "      <td>FinTech</td>\n",
       "      <td>media</td>\n",
       "      <td>Later Stage VC</td>\n",
       "      <td>Tech</td>\n",
       "      <td>Mid/Late/Corp</td>\n",
       "      <td>PB - Later Stage &lt;$50MM</td>\n",
       "      <td>FL</td>\n",
       "      <td>$30,500K</td>\n",
       "    </tr>\n",
       "    <tr>\n",
       "      <th>2</th>\n",
       "      <td>1037</td>\n",
       "      <td>Former Client</td>\n",
       "      <td>Life Sciences</td>\n",
       "      <td>healthcare devices and supplies</td>\n",
       "      <td>Later Stage VC</td>\n",
       "      <td>LifeSci</td>\n",
       "      <td>Large Corporate</td>\n",
       "      <td>PB - Later Stage &gt;=$50MM</td>\n",
       "      <td>MA</td>\n",
       "      <td>$72,651K</td>\n",
       "    </tr>\n",
       "    <tr>\n",
       "      <th>3</th>\n",
       "      <td>1049</td>\n",
       "      <td>Former Client</td>\n",
       "      <td>Manufacturing</td>\n",
       "      <td>commercial products</td>\n",
       "      <td>Later Stage VC</td>\n",
       "      <td>Tech</td>\n",
       "      <td>Large Corporate</td>\n",
       "      <td>PB - Later Stage &gt;=$50MM</td>\n",
       "      <td>CA</td>\n",
       "      <td>$80,653K</td>\n",
       "    </tr>\n",
       "    <tr>\n",
       "      <th>4</th>\n",
       "      <td>1053</td>\n",
       "      <td>Former Client</td>\n",
       "      <td>Mobile</td>\n",
       "      <td>software</td>\n",
       "      <td>Later Stage VC</td>\n",
       "      <td>Tech</td>\n",
       "      <td>Large Corporate</td>\n",
       "      <td>PB - Later Stage &gt;=$50MM</td>\n",
       "      <td>VA</td>\n",
       "      <td>$99,956K</td>\n",
       "    </tr>\n",
       "    <tr>\n",
       "      <th>5</th>\n",
       "      <td>1056</td>\n",
       "      <td>Client</td>\n",
       "      <td>Big Data</td>\n",
       "      <td>software</td>\n",
       "      <td>Early Stage VC</td>\n",
       "      <td>Tech</td>\n",
       "      <td>Mid/Late/Corp</td>\n",
       "      <td>Moody - $5-75MM</td>\n",
       "      <td>PA</td>\n",
       "      <td>$5,000K</td>\n",
       "    </tr>\n",
       "    <tr>\n",
       "      <th>6</th>\n",
       "      <td>1059</td>\n",
       "      <td>Non-Client</td>\n",
       "      <td>Life Sciences</td>\n",
       "      <td>pharmaceuticals and biotechnology</td>\n",
       "      <td>Later Stage VC</td>\n",
       "      <td>LifeSci</td>\n",
       "      <td>Mid/Late/Corp</td>\n",
       "      <td>PB - Later Stage &lt;$50MM</td>\n",
       "      <td>WA</td>\n",
       "      <td>$21,409K</td>\n",
       "    </tr>\n",
       "    <tr>\n",
       "      <th>7</th>\n",
       "      <td>1067</td>\n",
       "      <td>Client</td>\n",
       "      <td>Life Sciences</td>\n",
       "      <td>healthcare devices and supplies</td>\n",
       "      <td>Later Stage VC</td>\n",
       "      <td>LifeSci</td>\n",
       "      <td>Large Corporate</td>\n",
       "      <td>PB - Later Stage &gt;=$50MM</td>\n",
       "      <td>MA</td>\n",
       "      <td>$159,267K</td>\n",
       "    </tr>\n",
       "    <tr>\n",
       "      <th>8</th>\n",
       "      <td>1078</td>\n",
       "      <td>Non-Client</td>\n",
       "      <td>E-Commerce</td>\n",
       "      <td>computer hardware</td>\n",
       "      <td>Later Stage VC</td>\n",
       "      <td>Tech</td>\n",
       "      <td>Mid/Late/Corp</td>\n",
       "      <td>PB - Later Stage &lt;$50MM</td>\n",
       "      <td>IL</td>\n",
       "      <td>$23,025K</td>\n",
       "    </tr>\n",
       "    <tr>\n",
       "      <th>9</th>\n",
       "      <td>1087</td>\n",
       "      <td>Client</td>\n",
       "      <td>Mobile</td>\n",
       "      <td>healthcare technology systems</td>\n",
       "      <td>Later Stage VC</td>\n",
       "      <td>LifeSci</td>\n",
       "      <td>Large Corporate</td>\n",
       "      <td>PB - Later Stage &gt;=$50MM</td>\n",
       "      <td>CA</td>\n",
       "      <td>$114,642K</td>\n",
       "    </tr>\n",
       "  </tbody>\n",
       "</table>\n",
       "</div>"
      ],
      "text/plain": [
       "   Company ID  Client Status Vertical Description  \\\n",
       "0        1010         Client        Cybersecurity   \n",
       "1        1037  Former Client              FinTech   \n",
       "2        1037  Former Client        Life Sciences   \n",
       "3        1049  Former Client        Manufacturing   \n",
       "4        1053  Former Client               Mobile   \n",
       "5        1056         Client             Big Data   \n",
       "6        1059     Non-Client        Life Sciences   \n",
       "7        1067         Client        Life Sciences   \n",
       "8        1078     Non-Client           E-Commerce   \n",
       "9        1087         Client               Mobile   \n",
       "\n",
       "                   Group Description       Deal Type Business Group  \\\n",
       "0                           software  Later Stage VC           Tech   \n",
       "1                              media  Later Stage VC           Tech   \n",
       "2    healthcare devices and supplies  Later Stage VC        LifeSci   \n",
       "3                commercial products  Later Stage VC           Tech   \n",
       "4                           software  Later Stage VC           Tech   \n",
       "5                           software  Early Stage VC           Tech   \n",
       "6  pharmaceuticals and biotechnology  Later Stage VC        LifeSci   \n",
       "7    healthcare devices and supplies  Later Stage VC        LifeSci   \n",
       "8                  computer hardware  Later Stage VC           Tech   \n",
       "9      healthcare technology systems  Later Stage VC        LifeSci   \n",
       "\n",
       "  Enhanced Life Stage Enhanced Lifestage Reason State   Equity Raised To Date   \n",
       "0       Mid/Late/Corp                      Same      CA               $36,322K  \n",
       "1       Mid/Late/Corp   PB - Later Stage <$50MM      FL               $30,500K  \n",
       "2     Large Corporate  PB - Later Stage >=$50MM      MA               $72,651K  \n",
       "3     Large Corporate  PB - Later Stage >=$50MM      CA               $80,653K  \n",
       "4     Large Corporate  PB - Later Stage >=$50MM      VA               $99,956K  \n",
       "5       Mid/Late/Corp           Moody - $5-75MM      PA                $5,000K  \n",
       "6       Mid/Late/Corp   PB - Later Stage <$50MM      WA               $21,409K  \n",
       "7     Large Corporate  PB - Later Stage >=$50MM      MA              $159,267K  \n",
       "8       Mid/Late/Corp   PB - Later Stage <$50MM      IL               $23,025K  \n",
       "9     Large Corporate  PB - Later Stage >=$50MM      CA              $114,642K  "
      ]
     },
     "execution_count": 42,
     "metadata": {},
     "output_type": "execute_result"
    }
   ],
   "source": [
    "# Connect to the data file, and output a preview of the data\n",
    "\n",
    "dataframe = pd.read_csv(os.path.join('enterprise_data.csv'))\n",
    "dataframe.head(10)"
   ]
  },
  {
   "cell_type": "markdown",
   "metadata": {},
   "source": [
    "## Part 0: Data Cleaning and Reformatting"
   ]
  },
  {
   "cell_type": "markdown",
   "metadata": {},
   "source": [
    "Before getting into the analysis, I want to reformat the data so it is easier to read/understand, and that the values in \"Equity Raised\" are number values and not string values"
   ]
  },
  {
   "cell_type": "code",
   "execution_count": 43,
   "metadata": {
    "scrolled": true
   },
   "outputs": [
    {
     "data": {
      "text/html": [
       "<div>\n",
       "<style scoped>\n",
       "    .dataframe tbody tr th:only-of-type {\n",
       "        vertical-align: middle;\n",
       "    }\n",
       "\n",
       "    .dataframe tbody tr th {\n",
       "        vertical-align: top;\n",
       "    }\n",
       "\n",
       "    .dataframe thead th {\n",
       "        text-align: right;\n",
       "    }\n",
       "</style>\n",
       "<table border=\"1\" class=\"dataframe\">\n",
       "  <thead>\n",
       "    <tr style=\"text-align: right;\">\n",
       "      <th></th>\n",
       "      <th>Company</th>\n",
       "      <th>Type</th>\n",
       "      <th>Niche</th>\n",
       "      <th>Product Specialty</th>\n",
       "      <th>Status</th>\n",
       "      <th>Venture Type</th>\n",
       "      <th>Current Stage</th>\n",
       "      <th>Stage Value</th>\n",
       "      <th>State</th>\n",
       "      <th>Equity Raised</th>\n",
       "    </tr>\n",
       "  </thead>\n",
       "  <tbody>\n",
       "    <tr>\n",
       "      <th>0</th>\n",
       "      <td>1010</td>\n",
       "      <td>Tech</td>\n",
       "      <td>Cybersecurity</td>\n",
       "      <td>software</td>\n",
       "      <td>Client</td>\n",
       "      <td>Later Stage VC</td>\n",
       "      <td>Mid/Late/Corp</td>\n",
       "      <td>Same</td>\n",
       "      <td>CA</td>\n",
       "      <td>$36,322K</td>\n",
       "    </tr>\n",
       "    <tr>\n",
       "      <th>1</th>\n",
       "      <td>1037</td>\n",
       "      <td>Tech</td>\n",
       "      <td>FinTech</td>\n",
       "      <td>media</td>\n",
       "      <td>Former Client</td>\n",
       "      <td>Later Stage VC</td>\n",
       "      <td>Mid/Late/Corp</td>\n",
       "      <td>PB - Later Stage &lt;$50MM</td>\n",
       "      <td>FL</td>\n",
       "      <td>$30,500K</td>\n",
       "    </tr>\n",
       "    <tr>\n",
       "      <th>2</th>\n",
       "      <td>1037</td>\n",
       "      <td>LifeSci</td>\n",
       "      <td>Life Sciences</td>\n",
       "      <td>healthcare devices and supplies</td>\n",
       "      <td>Former Client</td>\n",
       "      <td>Later Stage VC</td>\n",
       "      <td>Large Corporate</td>\n",
       "      <td>PB - Later Stage &gt;=$50MM</td>\n",
       "      <td>MA</td>\n",
       "      <td>$72,651K</td>\n",
       "    </tr>\n",
       "    <tr>\n",
       "      <th>3</th>\n",
       "      <td>1049</td>\n",
       "      <td>Tech</td>\n",
       "      <td>Manufacturing</td>\n",
       "      <td>commercial products</td>\n",
       "      <td>Former Client</td>\n",
       "      <td>Later Stage VC</td>\n",
       "      <td>Large Corporate</td>\n",
       "      <td>PB - Later Stage &gt;=$50MM</td>\n",
       "      <td>CA</td>\n",
       "      <td>$80,653K</td>\n",
       "    </tr>\n",
       "    <tr>\n",
       "      <th>4</th>\n",
       "      <td>1053</td>\n",
       "      <td>Tech</td>\n",
       "      <td>Mobile</td>\n",
       "      <td>software</td>\n",
       "      <td>Former Client</td>\n",
       "      <td>Later Stage VC</td>\n",
       "      <td>Large Corporate</td>\n",
       "      <td>PB - Later Stage &gt;=$50MM</td>\n",
       "      <td>VA</td>\n",
       "      <td>$99,956K</td>\n",
       "    </tr>\n",
       "  </tbody>\n",
       "</table>\n",
       "</div>"
      ],
      "text/plain": [
       "   Company     Type          Niche                Product Specialty  \\\n",
       "0     1010     Tech  Cybersecurity                         software   \n",
       "1     1037     Tech        FinTech                            media   \n",
       "2     1037  LifeSci  Life Sciences  healthcare devices and supplies   \n",
       "3     1049     Tech  Manufacturing              commercial products   \n",
       "4     1053     Tech         Mobile                         software   \n",
       "\n",
       "          Status    Venture Type    Current Stage               Stage Value  \\\n",
       "0         Client  Later Stage VC    Mid/Late/Corp                      Same   \n",
       "1  Former Client  Later Stage VC    Mid/Late/Corp   PB - Later Stage <$50MM   \n",
       "2  Former Client  Later Stage VC  Large Corporate  PB - Later Stage >=$50MM   \n",
       "3  Former Client  Later Stage VC  Large Corporate  PB - Later Stage >=$50MM   \n",
       "4  Former Client  Later Stage VC  Large Corporate  PB - Later Stage >=$50MM   \n",
       "\n",
       "  State Equity Raised  \n",
       "0    CA      $36,322K  \n",
       "1    FL      $30,500K  \n",
       "2    MA      $72,651K  \n",
       "3    CA      $80,653K  \n",
       "4    VA      $99,956K  "
      ]
     },
     "execution_count": 43,
     "metadata": {},
     "output_type": "execute_result"
    }
   ],
   "source": [
    "# renaming columns and create master dataframe\n",
    "\n",
    "df = [\n",
    "    dataframe[\"Company ID\"],\n",
    "    dataframe[\"Client Status\"],\n",
    "    dataframe[\"Vertical Description\"],\n",
    "    dataframe[\"Group Description\"],\n",
    "    dataframe[\"Deal Type\"],\n",
    "    dataframe[\"Business Group\"],\n",
    "    dataframe[\"Enhanced Life Stage\"],\n",
    "    dataframe[\"Enhanced Lifestage Reason\"],\n",
    "    dataframe[\"State  \"],\n",
    "    dataframe[\"Equity Raised To Date \"]\n",
    "]\n",
    "\n",
    "master = pd.DataFrame({\n",
    "    \"Company\": df[0],\n",
    "    \"Type\": df[5],\n",
    "    \"Niche\": df[2],\n",
    "    \"Product Specialty\": df[3],\n",
    "    \"Status\": df[1],\n",
    "    \"Venture Type\": df[4],\n",
    "    \"Current Stage\": df[6],\n",
    "    \"Stage Value\": df[7],\n",
    "    \"State\": df[8],\n",
    "    \"Equity Raised\": df[9],\n",
    "})\n",
    "\n",
    "# replace NaN with 0 if any\n",
    "master = master.fillna(0)\n",
    "\n",
    "master.head()"
   ]
  },
  {
   "cell_type": "code",
   "execution_count": 44,
   "metadata": {},
   "outputs": [],
   "source": [
    "reformatted_equity = []\n",
    "\n",
    "for i in range(len(master[\"Equity Raised\"])):\n",
    "    if isinstance(master[\"Equity Raised\"][i], str):\n",
    "        reformatted_equity.append(int(master[\"Equity Raised\"][i].replace(\"$\", \"\").replace(\",\", \"\").replace(\"K\", \"\") + \"000\"))\n",
    "    else:\n",
    "        reformatted_equity.append(int(master[\"Equity Raised\"][i]))\n",
    "        \n",
    "# we append a \"000\" to the end of the string equity value because the original values are in the thousands (k)"
   ]
  },
  {
   "cell_type": "code",
   "execution_count": 45,
   "metadata": {},
   "outputs": [
    {
     "data": {
      "text/html": [
       "<div>\n",
       "<style scoped>\n",
       "    .dataframe tbody tr th:only-of-type {\n",
       "        vertical-align: middle;\n",
       "    }\n",
       "\n",
       "    .dataframe tbody tr th {\n",
       "        vertical-align: top;\n",
       "    }\n",
       "\n",
       "    .dataframe thead th {\n",
       "        text-align: right;\n",
       "    }\n",
       "</style>\n",
       "<table border=\"1\" class=\"dataframe\">\n",
       "  <thead>\n",
       "    <tr style=\"text-align: right;\">\n",
       "      <th></th>\n",
       "      <th>Company</th>\n",
       "      <th>Type</th>\n",
       "      <th>Niche</th>\n",
       "      <th>Product Specialty</th>\n",
       "      <th>Status</th>\n",
       "      <th>Venture Type</th>\n",
       "      <th>Current Stage</th>\n",
       "      <th>Stage Value</th>\n",
       "      <th>State</th>\n",
       "      <th>Equity Raised</th>\n",
       "    </tr>\n",
       "  </thead>\n",
       "  <tbody>\n",
       "    <tr>\n",
       "      <th>0</th>\n",
       "      <td>1010</td>\n",
       "      <td>Tech</td>\n",
       "      <td>Cybersecurity</td>\n",
       "      <td>software</td>\n",
       "      <td>Client</td>\n",
       "      <td>Later Stage VC</td>\n",
       "      <td>Mid/Late/Corp</td>\n",
       "      <td>Same</td>\n",
       "      <td>CA</td>\n",
       "      <td>36322000</td>\n",
       "    </tr>\n",
       "    <tr>\n",
       "      <th>1</th>\n",
       "      <td>1037</td>\n",
       "      <td>Tech</td>\n",
       "      <td>FinTech</td>\n",
       "      <td>media</td>\n",
       "      <td>Former Client</td>\n",
       "      <td>Later Stage VC</td>\n",
       "      <td>Mid/Late/Corp</td>\n",
       "      <td>PB - Later Stage &lt;$50MM</td>\n",
       "      <td>FL</td>\n",
       "      <td>30500000</td>\n",
       "    </tr>\n",
       "    <tr>\n",
       "      <th>2</th>\n",
       "      <td>1037</td>\n",
       "      <td>LifeSci</td>\n",
       "      <td>Life Sciences</td>\n",
       "      <td>healthcare devices and supplies</td>\n",
       "      <td>Former Client</td>\n",
       "      <td>Later Stage VC</td>\n",
       "      <td>Large Corporate</td>\n",
       "      <td>PB - Later Stage &gt;=$50MM</td>\n",
       "      <td>MA</td>\n",
       "      <td>72651000</td>\n",
       "    </tr>\n",
       "    <tr>\n",
       "      <th>3</th>\n",
       "      <td>1049</td>\n",
       "      <td>Tech</td>\n",
       "      <td>Manufacturing</td>\n",
       "      <td>commercial products</td>\n",
       "      <td>Former Client</td>\n",
       "      <td>Later Stage VC</td>\n",
       "      <td>Large Corporate</td>\n",
       "      <td>PB - Later Stage &gt;=$50MM</td>\n",
       "      <td>CA</td>\n",
       "      <td>80653000</td>\n",
       "    </tr>\n",
       "    <tr>\n",
       "      <th>4</th>\n",
       "      <td>1053</td>\n",
       "      <td>Tech</td>\n",
       "      <td>Mobile</td>\n",
       "      <td>software</td>\n",
       "      <td>Former Client</td>\n",
       "      <td>Later Stage VC</td>\n",
       "      <td>Large Corporate</td>\n",
       "      <td>PB - Later Stage &gt;=$50MM</td>\n",
       "      <td>VA</td>\n",
       "      <td>99956000</td>\n",
       "    </tr>\n",
       "  </tbody>\n",
       "</table>\n",
       "</div>"
      ],
      "text/plain": [
       "   Company     Type          Niche                Product Specialty  \\\n",
       "0     1010     Tech  Cybersecurity                         software   \n",
       "1     1037     Tech        FinTech                            media   \n",
       "2     1037  LifeSci  Life Sciences  healthcare devices and supplies   \n",
       "3     1049     Tech  Manufacturing              commercial products   \n",
       "4     1053     Tech         Mobile                         software   \n",
       "\n",
       "          Status    Venture Type    Current Stage               Stage Value  \\\n",
       "0         Client  Later Stage VC    Mid/Late/Corp                      Same   \n",
       "1  Former Client  Later Stage VC    Mid/Late/Corp   PB - Later Stage <$50MM   \n",
       "2  Former Client  Later Stage VC  Large Corporate  PB - Later Stage >=$50MM   \n",
       "3  Former Client  Later Stage VC  Large Corporate  PB - Later Stage >=$50MM   \n",
       "4  Former Client  Later Stage VC  Large Corporate  PB - Later Stage >=$50MM   \n",
       "\n",
       "  State  Equity Raised  \n",
       "0    CA       36322000  \n",
       "1    FL       30500000  \n",
       "2    MA       72651000  \n",
       "3    CA       80653000  \n",
       "4    VA       99956000  "
      ]
     },
     "execution_count": 45,
     "metadata": {},
     "output_type": "execute_result"
    }
   ],
   "source": [
    "# replace the existing \"Equity Raised\" column with the reformatted version\n",
    "master[\"Equity Raised\"] = reformatted_equity\n",
    "master.head()"
   ]
  },
  {
   "cell_type": "code",
   "execution_count": 46,
   "metadata": {},
   "outputs": [
    {
     "data": {
      "text/plain": [
       "numpy.int64"
      ]
     },
     "execution_count": 46,
     "metadata": {},
     "output_type": "execute_result"
    }
   ],
   "source": [
    "# Show that the data type in Equity Raised is an integer\n",
    "type(master[\"Equity Raised\"][0])"
   ]
  },
  {
   "cell_type": "markdown",
   "metadata": {},
   "source": [
    "### This concludes the data cleaning."
   ]
  },
  {
   "cell_type": "markdown",
   "metadata": {},
   "source": [
    "## Part 1: Type (Business Group) Analysis"
   ]
  },
  {
   "cell_type": "markdown",
   "metadata": {},
   "source": [
    "There are 3 main types of companies listed within the dataset: Life Science, Tech, and \"Non\". The \"Non\" group is referring to other types of companies not listed under Life Sciences or Technology industry. The purpose of this analysis is to discover the performance of an industry based on the amount of equity raised."
   ]
  },
  {
   "cell_type": "code",
   "execution_count": 47,
   "metadata": {},
   "outputs": [
    {
     "name": "stdout",
     "output_type": "stream",
     "text": [
      "6695\n",
      "[4907, 1588, 183, 17]\n",
      "6695\n"
     ]
    }
   ],
   "source": [
    "# get the total count of each type of company\n",
    "\n",
    "total_types = master[\"Type\"].count()\n",
    "number_of_tech = master[master.Type == \"Tech\"].count()[0]\n",
    "number_of_lifesci = master[master.Type == \"LifeSci\"].count()[0]\n",
    "number_of_non = master[master.Type == \"Non\"].count()[0]\n",
    "number_of_unlisted = master[master.Type == \" \"].count()[0]\n",
    "\n",
    "# Validate that the number of each type equals the total number of entries in the dataset\n",
    "print(total_types)\n",
    "print([number_of_tech, number_of_lifesci, number_of_non, number_of_unlisted])\n",
    "print(number_of_tech + number_of_lifesci + number_of_non + number_of_unlisted)"
   ]
  },
  {
   "cell_type": "code",
   "execution_count": 48,
   "metadata": {},
   "outputs": [
    {
     "data": {
      "text/html": [
       "<div>\n",
       "<style scoped>\n",
       "    .dataframe tbody tr th:only-of-type {\n",
       "        vertical-align: middle;\n",
       "    }\n",
       "\n",
       "    .dataframe tbody tr th {\n",
       "        vertical-align: top;\n",
       "    }\n",
       "\n",
       "    .dataframe thead th {\n",
       "        text-align: right;\n",
       "    }\n",
       "</style>\n",
       "<table border=\"1\" class=\"dataframe\">\n",
       "  <thead>\n",
       "    <tr style=\"text-align: right;\">\n",
       "      <th></th>\n",
       "      <th>Tech Companies</th>\n",
       "      <th>Life Science Companies</th>\n",
       "      <th>Other</th>\n",
       "      <th>Unlisted</th>\n",
       "    </tr>\n",
       "  </thead>\n",
       "  <tbody>\n",
       "    <tr>\n",
       "      <th>0</th>\n",
       "      <td>0.732935</td>\n",
       "      <td>0.237192</td>\n",
       "      <td>0.027334</td>\n",
       "      <td>0.002539</td>\n",
       "    </tr>\n",
       "  </tbody>\n",
       "</table>\n",
       "</div>"
      ],
      "text/plain": [
       "   Tech Companies  Life Science Companies     Other  Unlisted\n",
       "0        0.732935                0.237192  0.027334  0.002539"
      ]
     },
     "execution_count": 48,
     "metadata": {},
     "output_type": "execute_result"
    }
   ],
   "source": [
    "# Create another dataframe using the information above\n",
    "\n",
    "typesdf = pd.DataFrame({\n",
    "    \"Tech Companies\": [number_of_tech / total_types],\n",
    "    \"Life Science Companies\": [number_of_lifesci / total_types],\n",
    "    \"Other\": [number_of_non / total_types],\n",
    "    \"Unlisted\": [number_of_unlisted / total_types]\n",
    "})\n",
    "typesdf.head()"
   ]
  },
  {
   "cell_type": "code",
   "execution_count": 49,
   "metadata": {},
   "outputs": [
    {
     "data": {
      "image/png": "[encoded data removed]",
      "text/plain": [
       "<Figure size 864x864 with 1 Axes>"
      ]
     },
     "metadata": {},
     "output_type": "display_data"
    }
   ],
   "source": [
    "# Display a Pie Chart / Bar Chart to show the distribution of company types\n",
    "\n",
    "fig, ax = plt.subplots(figsize=(12, 12), subplot_kw=dict(aspect=\"equal\"))\n",
    "labels = ['Tech Companies', 'Life Science Companies', 'Other', 'Unlisted']\n",
    "sizes = [typesdf[\"Tech Companies\"][0], typesdf[\"Life Science Companies\"][0], typesdf[\"Other\"][0], typesdf[\"Unlisted\"][0]]\n",
    "\n",
    "wedges, texts, autotexts = ax.pie(sizes, autopct='%1.1f%%',\n",
    "                                  textprops=dict(color=\"w\"))\n",
    "\n",
    "ax.legend(wedges, labels,\n",
    "          title=\"Types of Companies\",\n",
    "          loc=\"center left\",\n",
    "          bbox_to_anchor=(1, 0, 0.5, 1))\n",
    "\n",
    "plt.setp(autotexts, size=12, weight=\"bold\")\n",
    "\n",
    "ax.set_title(\"Types of Companies at XYZ Inc.\")\n",
    "\n",
    "plt.show()"
   ]
  },
  {
   "cell_type": "markdown",
   "metadata": {},
   "source": [
    "### The large majority of companies within XYZ Inc data is tech companies, followed by life science companies.  The 'Other' category is a list of companies do not have a specific type that can be categorized as Tech or Life Science. The majority of 'Unlisted' are companies that performed some sort of exit, and therefore are not listed in any specific type."
   ]
  },
  {
   "cell_type": "code",
   "execution_count": 50,
   "metadata": {},
   "outputs": [
    {
     "data": {
      "text/plain": [
       "Type\n",
       "               19951000\n",
       "LifeSci    109891693000\n",
       "Non          7987639000\n",
       "Tech       362861564000\n",
       "Name: Equity Raised, dtype: int64"
      ]
     },
     "execution_count": 50,
     "metadata": {},
     "output_type": "execute_result"
    }
   ],
   "source": [
    "# Create a new dataframe to group by the amount of equity raised by each type of company\n",
    "# Remember that each summ total is in (K). i.e. 1,000K == 1,000,000\n",
    "master.groupby(\"Type\")[\"Equity Raised\"].sum()\n",
    "\n",
    "# Please Note: The below values were validated using Excels pivot table function"
   ]
  },
  {
   "cell_type": "code",
   "execution_count": 51,
   "metadata": {},
   "outputs": [],
   "source": [
    "tech_equity = int(master.groupby(\"Type\")[\"Equity Raised\"].sum()[3])\n",
    "lifesci_equity = int(master.groupby(\"Type\")[\"Equity Raised\"].sum()[1])\n",
    "other_equity = int(master.groupby(\"Type\")[\"Equity Raised\"].sum()[2])\n",
    "unlisted_equity = int(master.groupby(\"Type\")[\"Equity Raised\"].sum()[0])"
   ]
  },
  {
   "cell_type": "code",
   "execution_count": 52,
   "metadata": {},
   "outputs": [
    {
     "data": {
      "text/html": [
       "<div>\n",
       "<style scoped>\n",
       "    .dataframe tbody tr th:only-of-type {\n",
       "        vertical-align: middle;\n",
       "    }\n",
       "\n",
       "    .dataframe tbody tr th {\n",
       "        vertical-align: top;\n",
       "    }\n",
       "\n",
       "    .dataframe thead th {\n",
       "        text-align: right;\n",
       "    }\n",
       "</style>\n",
       "<table border=\"1\" class=\"dataframe\">\n",
       "  <thead>\n",
       "    <tr style=\"text-align: right;\">\n",
       "      <th></th>\n",
       "      <th>Equity Totals</th>\n",
       "      <th>Tech Equity</th>\n",
       "      <th>Life Science Equity</th>\n",
       "      <th>Other Equity</th>\n",
       "    </tr>\n",
       "  </thead>\n",
       "  <tbody>\n",
       "    <tr>\n",
       "      <th>0</th>\n",
       "      <td>480760847000</td>\n",
       "      <td>362861564000</td>\n",
       "      <td>109891693000</td>\n",
       "      <td>7987639000</td>\n",
       "    </tr>\n",
       "  </tbody>\n",
       "</table>\n",
       "</div>"
      ],
      "text/plain": [
       "   Equity Totals   Tech Equity  Life Science Equity  Other Equity\n",
       "0   480760847000  362861564000         109891693000    7987639000"
      ]
     },
     "execution_count": 52,
     "metadata": {},
     "output_type": "execute_result"
    }
   ],
   "source": [
    "# Create the equity totals dataframe grouped by Type\n",
    "# Decided to remove the unlisted companies as the majority of them performed some sort of exit, and amounts\n",
    "# to a very small portion of contributed value (outlier)\n",
    "\n",
    "equity_totals_df = pd.DataFrame({\n",
    "    \"Equity Totals\": master[\"Equity Raised\"].sum(),\n",
    "    \"Tech Equity\": [tech_equity],\n",
    "    \"Life Science Equity\": [lifesci_equity],\n",
    "    \"Other Equity\": [other_equity],\n",
    "})\n",
    "\n",
    "equity_totals_df.head()"
   ]
  },
  {
   "cell_type": "code",
   "execution_count": 53,
   "metadata": {},
   "outputs": [
    {
     "name": "stderr",
     "output_type": "stream",
     "text": [
      "<ipython-input-53-4a1efc7794b7>:7: UserWarning: FixedFormatter should only be used together with FixedLocator\n",
      "  ax.set_yticklabels(yaxis)\n"
     ]
    },
    {
     "data": {
      "image/png": "[encoded data removed]",
      "text/plain": [
       "<Figure size 1080x576 with 1 Axes>"
      ]
     },
     "metadata": {
      "needs_background": "light"
     },
     "output_type": "display_data"
    }
   ],
   "source": [
    "f, ax = plt.subplots(figsize=(15,8))\n",
    "\n",
    "xaxis = [equity_totals_df[\"Tech Equity\"][0], equity_totals_df[\"Life Science Equity\"][0], equity_totals_df[\"Other Equity\"][0]]\n",
    "yaxis = [\"Tech Equity\", \"Life Science Equity\", \"Other Equity\"]\n",
    "\n",
    "ax.barh(yaxis, xaxis)\n",
    "ax.set_yticklabels(yaxis)\n",
    "ax.invert_yaxis()\n",
    "ax.set_xlabel(\"Total Equity\")\n",
    "ax.set_title('Total Equity Raised by Type of Company')\n",
    "\n",
    "for index, value in enumerate(xaxis):\n",
    "    plt.text(value, index, str(value))\n",
    "\n",
    "plt.show()"
   ]
  },
  {
   "cell_type": "markdown",
   "metadata": {},
   "source": [
    "### Result: \n",
    "\n",
    "Tech Companies returned the most total equity with a value of $362,861,564,000.00 USD while also contributing to over 73 percent of the total companies associated with XYZ Inc. \n",
    "\n",
    "Life Sciences follows with  $109,891,693,000.00 and 23.7 percent representation at XYZ Inc.\n",
    "\n",
    "Companies not listed under Tech or Life Sciences accumulated $7,987,639,000.00 equity and represents 2.7 percent of all total companies at XYZ Inc."
   ]
  },
  {
   "cell_type": "markdown",
   "metadata": {},
   "source": [
    "## Part 2: Niche (Vertical Description) Analysis\n",
    "\n",
    "Analyzing by type of company provides only a high level overview of the kind of success companies experience using products at XYZ Inc. We can dive deeper into the amount of equity raised by each company by analyzing the niches (or vertical description) that each company specializes in."
   ]
  },
  {
   "cell_type": "code",
   "execution_count": 54,
   "metadata": {},
   "outputs": [
    {
     "data": {
      "text/html": [
       "<div>\n",
       "<style scoped>\n",
       "    .dataframe tbody tr th:only-of-type {\n",
       "        vertical-align: middle;\n",
       "    }\n",
       "\n",
       "    .dataframe tbody tr th {\n",
       "        vertical-align: top;\n",
       "    }\n",
       "\n",
       "    .dataframe thead th {\n",
       "        text-align: right;\n",
       "    }\n",
       "</style>\n",
       "<table border=\"1\" class=\"dataframe\">\n",
       "  <thead>\n",
       "    <tr style=\"text-align: right;\">\n",
       "      <th></th>\n",
       "      <th>Niche</th>\n",
       "      <th>Equity Raised</th>\n",
       "    </tr>\n",
       "  </thead>\n",
       "  <tbody>\n",
       "    <tr>\n",
       "      <th>0</th>\n",
       "      <td>Cybersecurity</td>\n",
       "      <td>36322000</td>\n",
       "    </tr>\n",
       "    <tr>\n",
       "      <th>1</th>\n",
       "      <td>FinTech</td>\n",
       "      <td>30500000</td>\n",
       "    </tr>\n",
       "    <tr>\n",
       "      <th>2</th>\n",
       "      <td>Life Sciences</td>\n",
       "      <td>72651000</td>\n",
       "    </tr>\n",
       "    <tr>\n",
       "      <th>3</th>\n",
       "      <td>Manufacturing</td>\n",
       "      <td>80653000</td>\n",
       "    </tr>\n",
       "    <tr>\n",
       "      <th>4</th>\n",
       "      <td>Mobile</td>\n",
       "      <td>99956000</td>\n",
       "    </tr>\n",
       "  </tbody>\n",
       "</table>\n",
       "</div>"
      ],
      "text/plain": [
       "           Niche  Equity Raised\n",
       "0  Cybersecurity       36322000\n",
       "1        FinTech       30500000\n",
       "2  Life Sciences       72651000\n",
       "3  Manufacturing       80653000\n",
       "4         Mobile       99956000"
      ]
     },
     "execution_count": 54,
     "metadata": {},
     "output_type": "execute_result"
    }
   ],
   "source": [
    "# Create the dataframe for Niche and Equity Raised\n",
    "\n",
    "niche_df = pd.DataFrame({\n",
    "    \"Niche\": master[\"Niche\"],\n",
    "    \"Equity Raised\": master[\"Equity Raised\"]\n",
    "})\n",
    "niche_df.head()"
   ]
  },
  {
   "cell_type": "code",
   "execution_count": 55,
   "metadata": {},
   "outputs": [
    {
     "name": "stdout",
     "output_type": "stream",
     "text": [
      "{'Life Sciences': 80707592000, 'FinTech': 60422541000, 'E-Commerce': 59391726000, 'SaaS': 42607625000, 'Big Data': 36450938000, 'CleanTech': 21150681000, 'Manufacturing': 20885902000, 'Cybersecurity': 20049317000, 'Mobile': 19816999000, 0: 17193276000, 'TMT': 12762432000, 'HealthTech': 7907826000, 'Real Estate Technology': 7815897000, 'Robotics and Drones': 6729702000, 'Internet of Things': 6156245000, 'Space Technology': 5680804000, 'EdTech': 4818933000, 'Wearables & Quantified Self': 4541761000, 'Autonomous cars': 4516372000, 'eSports': 4316324000, 'FoodTech': 4018047000, 'HR Tech': 3424118000, 'LOHAS & Wellness': 3335327000, 'Restaurant Technology': 3309625000, 'Cannabis': 3028469000, 'AdTech': 2607285000, 'AgTech': 2114208000, 'Industrials': 2013144000, 'Advanced Manufacturing': 1872321000, 'Artificial Intelligence & Machine Learning': 1741903000, 'Construction Technology': 1676681000, 'Digital Health': 1259506000, 'Virtual Reality': 1085126000, 'Marketing Tech': 1064754000, 'Nanotechnology': 923867000, 'AudioTech': 645976000, 'Oil & Gas': 418369000, 'Oncology': 369443000, 'FemTech': 313382000, 'Infrastructure': 303660000, 'Impact Investing': 245380000, 'Augmented Reality': 209299000, 'Mobile Commerce': 192964000, 'Beauty': 182450000, 'Cryptocurrency/Blockchain': 171588000, 'Mortgage Tech': 130035000, 'Gaming': 52600000, '3D Printing': 50072000, 'B2B Payments': 43560000, 'InsurTech': 17410000, 'Pet Technology': 14700000, 'Ridesharing': 2685000}\n"
     ]
    }
   ],
   "source": [
    "# Create a dictionary that holds the total for each niche\n",
    "niche_totals = {}\n",
    "\n",
    "for i in range(len(master[\"Niche\"])):\n",
    "    if master[\"Niche\"][i] not in niche_totals:\n",
    "        niche_totals[master[\"Niche\"][i]] = master[\"Equity Raised\"][i]\n",
    "    else:\n",
    "        niche_totals[master[\"Niche\"][i]] += master[\"Equity Raised\"][i]\n",
    "\n",
    "niche_totals = dict(sorted(niche_totals.items(), key=operator.itemgetter(1),reverse=True))\n",
    "print(niche_totals)"
   ]
  },
  {
   "cell_type": "code",
   "execution_count": 56,
   "metadata": {},
   "outputs": [
    {
     "data": {
      "text/html": [
       "<div>\n",
       "<style scoped>\n",
       "    .dataframe tbody tr th:only-of-type {\n",
       "        vertical-align: middle;\n",
       "    }\n",
       "\n",
       "    .dataframe tbody tr th {\n",
       "        vertical-align: top;\n",
       "    }\n",
       "\n",
       "    .dataframe thead th {\n",
       "        text-align: right;\n",
       "    }\n",
       "</style>\n",
       "<table border=\"1\" class=\"dataframe\">\n",
       "  <thead>\n",
       "    <tr style=\"text-align: right;\">\n",
       "      <th></th>\n",
       "      <th>Niche</th>\n",
       "      <th>Equity Raised</th>\n",
       "    </tr>\n",
       "  </thead>\n",
       "  <tbody>\n",
       "    <tr>\n",
       "      <th>0</th>\n",
       "      <td>Life Sciences</td>\n",
       "      <td>80707592000</td>\n",
       "    </tr>\n",
       "    <tr>\n",
       "      <th>1</th>\n",
       "      <td>FinTech</td>\n",
       "      <td>60422541000</td>\n",
       "    </tr>\n",
       "    <tr>\n",
       "      <th>2</th>\n",
       "      <td>E-Commerce</td>\n",
       "      <td>59391726000</td>\n",
       "    </tr>\n",
       "    <tr>\n",
       "      <th>3</th>\n",
       "      <td>SaaS</td>\n",
       "      <td>42607625000</td>\n",
       "    </tr>\n",
       "    <tr>\n",
       "      <th>4</th>\n",
       "      <td>Big Data</td>\n",
       "      <td>36450938000</td>\n",
       "    </tr>\n",
       "  </tbody>\n",
       "</table>\n",
       "</div>"
      ],
      "text/plain": [
       "           Niche  Equity Raised\n",
       "0  Life Sciences    80707592000\n",
       "1        FinTech    60422541000\n",
       "2     E-Commerce    59391726000\n",
       "3           SaaS    42607625000\n",
       "4       Big Data    36450938000"
      ]
     },
     "execution_count": 56,
     "metadata": {},
     "output_type": "execute_result"
    }
   ],
   "source": [
    "# Convert the values in the dictionary into a dataframe\n",
    "\n",
    "niche_equity_df = pd.DataFrame(niche_totals.items(), columns=['Niche', 'Equity Raised'])\n",
    "niche_equity_df.head()"
   ]
  },
  {
   "cell_type": "code",
   "execution_count": 76,
   "metadata": {},
   "outputs": [],
   "source": [
    "# store all values for each column into a list to prep the chart\n",
    "# reduce size of chart to top ten niches\n",
    "\n",
    "niche_equity_df = niche_equity_df.head(10)\n",
    "\n",
    "niche_titles, niche_equities = [], []\n",
    "for i in range(len(niche_equity_df[\"Niche\"])):\n",
    "    if niche_equity_df[\"Niche\"][i] != 0:\n",
    "        niche_titles.append(niche_equity_df[\"Niche\"][i])\n",
    "        niche_equities.append(niche_equity_df[\"Equity Raised\"][i])"
   ]
  },
  {
   "cell_type": "code",
   "execution_count": 80,
   "metadata": {},
   "outputs": [
    {
     "name": "stderr",
     "output_type": "stream",
     "text": [
      "<ipython-input-80-e0a9faa99c3f>:7: UserWarning: FixedFormatter should only be used together with FixedLocator\n",
      "  ax.set_yticklabels(yaxis)\n"
     ]
    },
    {
     "data": {
      "image/png": "[encoded data removed]",
      "text/plain": [
       "<Figure size 864x1800 with 1 Axes>"
      ]
     },
     "metadata": {
      "needs_background": "light"
     },
     "output_type": "display_data"
    }
   ],
   "source": [
    "f, ax = plt.subplots(figsize=(12,25))\n",
    "\n",
    "xaxis = niche_equities\n",
    "yaxis = niche_titles\n",
    "\n",
    "ax.barh(yaxis, xaxis)\n",
    "ax.set_yticklabels(yaxis)\n",
    "ax.invert_yaxis()\n",
    "ax.set_xlabel(\"Total Equity\")\n",
    "ax.set_title('Total Equity Raised by Niche')\n",
    "\n",
    "for index, value in enumerate(xaxis):\n",
    "    plt.text(value, index, str(f'{value:,}'))\n",
    "\n",
    "plt.show()"
   ]
  },
  {
   "cell_type": "markdown",
   "metadata": {},
   "source": [
    "### Result:\n",
    "\n",
    "Companies with a niche in Life Sciences, Fintech, and E-commerce generated equity that towered over the other niches. Just Life Sciences alone raised equity that is greater than the combined total of companies listed below \"Big Data\" (referring to the chart above). "
   ]
  },
  {
   "cell_type": "markdown",
   "metadata": {},
   "source": [
    "## Part 3: Product (Group Description) Analysis\n",
    "\n",
    "So we've taken a look at the higher level overview of which types and niches are more successful than others at raising equity. However, both analyses are quite broad and may not have reliable results. I want to analyze the kinds of products sold by each company to get a better gauge of what PRODUCTS sold are popular to the consumers."
   ]
  },
  {
   "cell_type": "code",
   "execution_count": 59,
   "metadata": {},
   "outputs": [
    {
     "data": {
      "text/plain": [
       "software                                2568\n",
       "pharmaceuticals and biotechnology        758\n",
       "healthcare devices and supplies          488\n",
       "commercial services                      438\n",
       "healthcare technology systems            331\n",
       "consumer non-durables                    260\n",
       "commercial products                      195\n",
       "consumer durables                        166\n",
       "media                                    164\n",
       "healthcare services                      150\n",
       "computer hardware                        146\n",
       "services (non-financial)                 138\n",
       "retail                                   105\n",
       "other financial services                  96\n",
       "apparel and accessories                   68\n",
       "transportation                            61\n",
       "communications and networking             60\n",
       "it services                               58\n",
       "restaurants, hotels and leisure           53\n",
       "energy services                           51\n",
       "energy equipment                          50\n",
       "agriculture                               48\n",
       "semiconductors                            47\n",
       "insurance                                 46\n",
       "chemicals and gases                       27\n",
       "other business products and services      17\n",
       "0                                         17\n",
       "commercial transportation                 16\n",
       "capital markets/institutions              16\n",
       "exploration, production and refining      14\n",
       "containers and packaging                   8\n",
       "other information technology               6\n",
       "textiles                                   5\n",
       "other materials                            5\n",
       "utilities                                  4\n",
       "metals, minerals and mining                4\n",
       "commercial banks                           4\n",
       "other consumer products and services       4\n",
       "other healthcare                           2\n",
       "other energy                               1\n",
       "Name: Product Specialty, dtype: int64"
      ]
     },
     "execution_count": 59,
     "metadata": {},
     "output_type": "execute_result"
    }
   ],
   "source": [
    "# display the kinds of products sold by each company\n",
    "\n",
    "master[\"Product Specialty\"].value_counts()"
   ]
  },
  {
   "cell_type": "code",
   "execution_count": 60,
   "metadata": {},
   "outputs": [
    {
     "data": {
      "text/html": [
       "<div>\n",
       "<style scoped>\n",
       "    .dataframe tbody tr th:only-of-type {\n",
       "        vertical-align: middle;\n",
       "    }\n",
       "\n",
       "    .dataframe tbody tr th {\n",
       "        vertical-align: top;\n",
       "    }\n",
       "\n",
       "    .dataframe thead th {\n",
       "        text-align: right;\n",
       "    }\n",
       "</style>\n",
       "<table border=\"1\" class=\"dataframe\">\n",
       "  <thead>\n",
       "    <tr style=\"text-align: right;\">\n",
       "      <th></th>\n",
       "      <th>Product</th>\n",
       "      <th>Equity Raised</th>\n",
       "    </tr>\n",
       "  </thead>\n",
       "  <tbody>\n",
       "    <tr>\n",
       "      <th>0</th>\n",
       "      <td>software</td>\n",
       "      <td>141649029000</td>\n",
       "    </tr>\n",
       "    <tr>\n",
       "      <th>1</th>\n",
       "      <td>pharmaceuticals and biotechnology</td>\n",
       "      <td>69294903000</td>\n",
       "    </tr>\n",
       "    <tr>\n",
       "      <th>2</th>\n",
       "      <td>transportation</td>\n",
       "      <td>50457567000</td>\n",
       "    </tr>\n",
       "    <tr>\n",
       "      <th>3</th>\n",
       "      <td>consumer durables</td>\n",
       "      <td>27044716000</td>\n",
       "    </tr>\n",
       "    <tr>\n",
       "      <th>4</th>\n",
       "      <td>healthcare devices and supplies</td>\n",
       "      <td>23934168000</td>\n",
       "    </tr>\n",
       "    <tr>\n",
       "      <th>5</th>\n",
       "      <td>commercial services</td>\n",
       "      <td>21668619000</td>\n",
       "    </tr>\n",
       "    <tr>\n",
       "      <th>6</th>\n",
       "      <td>healthcare technology systems</td>\n",
       "      <td>15716322000</td>\n",
       "    </tr>\n",
       "    <tr>\n",
       "      <th>7</th>\n",
       "      <td>other financial services</td>\n",
       "      <td>14287691000</td>\n",
       "    </tr>\n",
       "    <tr>\n",
       "      <th>8</th>\n",
       "      <td>commercial products</td>\n",
       "      <td>12599710000</td>\n",
       "    </tr>\n",
       "    <tr>\n",
       "      <th>9</th>\n",
       "      <td>retail</td>\n",
       "      <td>12527926000</td>\n",
       "    </tr>\n",
       "    <tr>\n",
       "      <th>10</th>\n",
       "      <td>services (non-financial)</td>\n",
       "      <td>12449843000</td>\n",
       "    </tr>\n",
       "    <tr>\n",
       "      <th>11</th>\n",
       "      <td>consumer non-durables</td>\n",
       "      <td>10043600000</td>\n",
       "    </tr>\n",
       "    <tr>\n",
       "      <th>12</th>\n",
       "      <td>media</td>\n",
       "      <td>9213638000</td>\n",
       "    </tr>\n",
       "    <tr>\n",
       "      <th>13</th>\n",
       "      <td>healthcare services</td>\n",
       "      <td>7723359000</td>\n",
       "    </tr>\n",
       "    <tr>\n",
       "      <th>14</th>\n",
       "      <td>computer hardware</td>\n",
       "      <td>6658780000</td>\n",
       "    </tr>\n",
       "    <tr>\n",
       "      <th>15</th>\n",
       "      <td>insurance</td>\n",
       "      <td>6059618000</td>\n",
       "    </tr>\n",
       "    <tr>\n",
       "      <th>16</th>\n",
       "      <td>restaurants, hotels and leisure</td>\n",
       "      <td>5822190000</td>\n",
       "    </tr>\n",
       "    <tr>\n",
       "      <th>17</th>\n",
       "      <td>commercial transportation</td>\n",
       "      <td>4968948000</td>\n",
       "    </tr>\n",
       "    <tr>\n",
       "      <th>18</th>\n",
       "      <td>energy equipment</td>\n",
       "      <td>3989435000</td>\n",
       "    </tr>\n",
       "    <tr>\n",
       "      <th>19</th>\n",
       "      <td>semiconductors</td>\n",
       "      <td>3637524000</td>\n",
       "    </tr>\n",
       "  </tbody>\n",
       "</table>\n",
       "</div>"
      ],
      "text/plain": [
       "                              Product  Equity Raised\n",
       "0                            software   141649029000\n",
       "1   pharmaceuticals and biotechnology    69294903000\n",
       "2                      transportation    50457567000\n",
       "3                   consumer durables    27044716000\n",
       "4     healthcare devices and supplies    23934168000\n",
       "5                 commercial services    21668619000\n",
       "6       healthcare technology systems    15716322000\n",
       "7            other financial services    14287691000\n",
       "8                 commercial products    12599710000\n",
       "9                              retail    12527926000\n",
       "10           services (non-financial)    12449843000\n",
       "11              consumer non-durables    10043600000\n",
       "12                              media     9213638000\n",
       "13                healthcare services     7723359000\n",
       "14                  computer hardware     6658780000\n",
       "15                          insurance     6059618000\n",
       "16    restaurants, hotels and leisure     5822190000\n",
       "17          commercial transportation     4968948000\n",
       "18                   energy equipment     3989435000\n",
       "19                     semiconductors     3637524000"
      ]
     },
     "execution_count": 60,
     "metadata": {},
     "output_type": "execute_result"
    }
   ],
   "source": [
    "# create a dataframe using Product Specialty and Equity Raised.\n",
    "\n",
    "product_spec = {}\n",
    "for i in range(len(master[\"Product Specialty\"])):\n",
    "    if master[\"Product Specialty\"][i] != \"0\" and master[\"Product Specialty\"][i] not in product_spec:\n",
    "        product_spec[master[\"Product Specialty\"][i]] = master[\"Equity Raised\"][i]\n",
    "    else:\n",
    "        product_spec[master[\"Product Specialty\"][i]] += master[\"Equity Raised\"][i]\n",
    "        \n",
    "product_spec = dict(sorted(product_spec.items(), key=operator.itemgetter(1),reverse=True))\n",
    "\n",
    "product_df = pd.DataFrame(product_spec.items(), columns=['Product', 'Equity Raised'])\n",
    "product_df.head(20)"
   ]
  },
  {
   "cell_type": "code",
   "execution_count": 69,
   "metadata": {},
   "outputs": [],
   "source": [
    "# lets remove the products that have little affect on the overall Equity Raised as we want to find the most suxxessful product\n",
    "top_ten_products = product_df.head(10)\n",
    "\n",
    "# Store the product names and values into lists to create the chart\n",
    "product_name, prod_equity = [], []\n",
    "\n",
    "for i in range(len(top_ten_products[\"Product\"])):\n",
    "    product_name.append(top_ten_products[\"Product\"][i])\n",
    "    prod_equity.append(top_ten_products[\"Equity Raised\"][i])"
   ]
  },
  {
   "cell_type": "code",
   "execution_count": 75,
   "metadata": {},
   "outputs": [
    {
     "name": "stderr",
     "output_type": "stream",
     "text": [
      "<ipython-input-75-af51fca41963>:7: UserWarning: FixedFormatter should only be used together with FixedLocator\n",
      "  ax.set_yticklabels(yaxis)\n"
     ]
    },
    {
     "data": {
      "image/png": "[encoded data removed]",
      "text/plain": [
       "<Figure size 864x1800 with 1 Axes>"
      ]
     },
     "metadata": {
      "needs_background": "light"
     },
     "output_type": "display_data"
    }
   ],
   "source": [
    "f, ax = plt.subplots(figsize=(12,25))\n",
    "\n",
    "xaxis = prod_equity\n",
    "yaxis = product_name\n",
    "\n",
    "ax.barh(yaxis, xaxis)\n",
    "ax.set_yticklabels(yaxis)\n",
    "ax.invert_yaxis()\n",
    "ax.set_xlabel(\"Total Equity\")\n",
    "ax.set_title('Total Equity Raised by Product')\n",
    "\n",
    "for index, value in enumerate(xaxis):\n",
    "    plt.text(value, index, str(f'{value:,}'))\n",
    "\n",
    "plt.show()"
   ]
  },
  {
   "cell_type": "code",
   "execution_count": null,
   "metadata": {},
   "outputs": [],
   "source": []
  },
  {
   "cell_type": "code",
   "execution_count": 63,
   "metadata": {},
   "outputs": [
    {
     "name": "stdout",
     "output_type": "stream",
     "text": [
      "141,649,029,000\n"
     ]
    }
   ],
   "source": [
    "print(f'{product_df[\"Equity Raised\"][0]:,}')"
   ]
  },
  {
   "cell_type": "code",
   "execution_count": null,
   "metadata": {},
   "outputs": [],
   "source": []
  }
 ],
 "metadata": {
  "kernelspec": {
   "display_name": "Python 3",
   "language": "python",
   "name": "python3"
  },
  "language_info": {
   "codemirror_mode": {
    "name": "ipython",
    "version": 3
   },
   "file_extension": ".py",
   "mimetype": "text/x-python",
   "name": "python",
   "nbconvert_exporter": "python",
   "pygments_lexer": "ipython3",
   "version": "3.8.5"
  }
 },
 "nbformat": 4,
 "nbformat_minor": 4
}
